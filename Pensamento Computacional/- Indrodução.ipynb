{
 "cells": [
  {
   "cell_type": "markdown",
   "metadata": {},
   "source": [
    "## Indrodução  \n",
    "<hr/>"
   ]
  },
  {
   "cell_type": "markdown",
   "metadata": {},
   "source": [
    "**Pensamento computacional** é o processo de pensamento envolvido na expressão de soluções em passos computacionais ou algoritmos que podem ser implementados no computador.  \n",
    "Esse tipo de pensamento é uma habilidade generalista que deve ser perfeitamente adaptável para humanos e maquinas.  \n",
    "  \n",
    "**Os 4 pilares do pensamento computacional**  \n",
    " - Decomposição: Que é a quebra do problema em segmentos menores e de menor complexidade.\n",
    " - Reconhecimento de padrões: Similaridades e diferenças devem ser agrupadas para melhores soluções.\n",
    " - Abstração: Extrapolar um conceito de um problema para uma forma mais generalista onde a idea é aplicável em diversas situações e por esse motivo, é abstraída do conceito principal.\n",
    " - Design de algoritmos: Desenhamos o passo a passo para a solução do problema, fazendo uso dos três pilares anteriores."
   ]
  },
  {
   "cell_type": "markdown",
   "metadata": {},
   "source": [
    "### Decomposição  \n",
    "  \n",
    "Dado um problema complexo, devemos quebra-lo em problemas menores. Por estratégia devemos primeiramente realizar uma analise bem detalhada para localizar, identificar padrões e contextos para realizar a agregação e quebra de dados, para sem seguida pensar em sua recomposição de forma ordenada.  \n",
    "Existem problemas que podem ser quebrados e resolvidos de forma paralela e desordenada, como também existem problemas que devem ser resolvidos em uma especie de fila, onde o proximo passo da solução depende do passo anterior.  \n"
   ]
  },
  {
   "cell_type": "markdown",
   "metadata": {},
   "source": [
    "### Padrões \n",
    "  \n",
    "Referenciar padrões é a habilidade de identificar propriedades que fazem sentido lógico de serem agrupadas, e a partir de uma coleção de padrões, estabelecendo um denominador mínimo  comum, podemos afirmar que determinado fenômeno pertence ao mesmo conjunto.  \n",
    "Determinamos padrões com o objetivo de resolver problemas diferentes com soluções comuns. \n"
   ]
  },
  {
   "cell_type": "markdown",
   "metadata": {},
   "source": [
    "### Abstração  \n",
    "É necessário entender a diferença entre **abstrair** e **abstração**:  \n",
    " - Abstrair: Observar, um ou mais elementos, avaliando as características e propriedades em separado.\n",
    " - Abstração: Processo de isolamento de um objeto da realidade.  \n",
    "\n",
    "Com isso em mente podemos usar a palavra **Generalização** para exemplificar melhor a abstração. Generalizar é a operação intelectual que consiste em reunir numa classe geral um conjunto de seres e fenômenos similares. Para tanto, a coleta de dados é fundamental.  \n",
    "    \n",
    " \n"
   ]
  },
  {
   "cell_type": "markdown",
   "metadata": {},
   "source": [
    "### Algoritmos  \n",
    "É um conjunto de instruções, passo a passo, para que um computador possa, receber, armazenar, processar e enviar dados.  \n",
    "Algoritmos precisam ser entendíveis por humanos e maquinas. \n",
    "Existem diversas técnicas para exemplificar e estruturar um algoritmo a mais comum é o fluxograma.  \n",
    "Para construir um algoritmo, temos que ter muito bem definido, em linguagem natural ou código, qual o problema, quais dados necessários, o que será devolvido pelo sistema e os testes necessários.  \n"
   ]
  },
  {
   "cell_type": "markdown",
   "metadata": {},
   "source": [
    "**Ciclo virtuoso do pensamento computacional**  \n",
    "  \n",
    "Raciocínio Lógico <> Decomposição <> Padrões <> Abstração <> Algoritmos <> Refinamento  \n",
    "  \n",
    "*_Raciocínio Lógico_*  \n",
    "É a forma de pensar que permite encontrar a conclusão ou determinar a resolução de um problema.  \n",
    "Formular o raciocínio lógico exige a habilidade de **indução** onde a partir de uma observação, podemos formular teorias relacionadas. **Dedução** o trabalho inverso da indução, parte do pressuposto de formulação de teorias e outras habilidades a fim de explicar o fenômeno observado. Por fim, a **abdução** é a formação de uma premissa através de uma conclusão anteriormente estabelecida.\n"
   ]
  },
  {
   "cell_type": "markdown",
   "metadata": {},
   "source": [
    "<hr>"
   ]
  }
 ],
 "metadata": {
  "interpreter": {
   "hash": "916dbcbb3f70747c44a77c7bcd40155683ae19c65e1c03b4aa3499c5328201f1"
  },
  "kernelspec": {
   "display_name": "Python 3.8.10 64-bit",
   "language": "python",
   "name": "python3"
  },
  "language_info": {
   "name": "python",
   "version": "3.8.10"
  },
  "orig_nbformat": 4
 },
 "nbformat": 4,
 "nbformat_minor": 2
}
