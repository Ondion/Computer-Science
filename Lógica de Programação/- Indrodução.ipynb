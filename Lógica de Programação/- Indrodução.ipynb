{
 "cells": [
  {
   "cell_type": "markdown",
   "metadata": {},
   "source": [
    "## Lógica  \n",
    "<hr/>"
   ]
  },
  {
   "cell_type": "markdown",
   "metadata": {},
   "source": [
    "*_A lógica, vista pela sua forma teórica, é a parte da filosofia que trata das formas do pensamento em geral (dedução, indução, hipótese, inferência, etc.) e das operações intelectuais que visam á determinação do que é verdadeiro ou não._*"
   ]
  },
  {
   "cell_type": "markdown",
   "metadata": {},
   "source": [
    "*_Para o ramo de tecnologia podemos definir lógica como a organização e planejamento das instruções, assertivas em um algoritmo, a fim de viabilizar a implantação de um programa._*"
   ]
  },
  {
   "cell_type": "markdown",
   "metadata": {},
   "source": [
    "<br>"
   ]
  },
  {
   "cell_type": "code",
   "execution_count": null,
   "metadata": {
    "vscode": {
     "languageId": "plaintext"
    }
   },
   "outputs": [],
   "source": []
  },
  {
   "cell_type": "markdown",
   "metadata": {},
   "source": [
    "###Técnicas de Lógica  \n",
    "  \n",
    " **Técnica Linear** É uma execução ordenada que possuem dependência entre seus elementos.  \n",
    " **Técnica Estruturada** Tem como objetivo a Escrita, Entendimento, Validação e Manutenção.\n",
    " **Técnica Modular** É controlada por um conjunto de regras e módulos que são divididos para maior abstração do problema.\n",
    " \n"
   ]
  }
 ],
 "metadata": {
  "interpreter": {
   "hash": "916dbcbb3f70747c44a77c7bcd40155683ae19c65e1c03b4aa3499c5328201f1"
  },
  "kernelspec": {
   "display_name": "Python 3.8.10 64-bit",
   "language": "python",
   "name": "python3"
  },
  "language_info": {
   "name": "python",
   "version": "3.8.10"
  },
  "orig_nbformat": 4
 },
 "nbformat": 4,
 "nbformat_minor": 2
}
